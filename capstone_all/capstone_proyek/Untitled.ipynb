{
 "cells": [
  {
   "cell_type": "code",
   "execution_count": 1,
   "id": "d1649188-0b7b-4136-9dff-9db33b2c174a",
   "metadata": {},
   "outputs": [
    {
     "name": "stdout",
     "output_type": "stream",
     "text": [
      "   laptop_ID Company      Product   TypeName  Inches  \\\n",
      "0          1   Apple  MacBook Pro  Ultrabook    13.3   \n",
      "1          2   Apple  Macbook Air  Ultrabook    13.3   \n",
      "2          3      HP       250 G6   Notebook    15.6   \n",
      "3          4   Apple  MacBook Pro  Ultrabook    15.4   \n",
      "4          5   Apple  MacBook Pro  Ultrabook    13.3   \n",
      "\n",
      "                     ScreenResolution                         Cpu   Ram  \\\n",
      "0  IPS Panel Retina Display 2560x1600        Intel Core i5 2.3GHz   8GB   \n",
      "1                            1440x900        Intel Core i5 1.8GHz   8GB   \n",
      "2                   Full HD 1920x1080  Intel Core i5 7200U 2.5GHz   8GB   \n",
      "3  IPS Panel Retina Display 2880x1800        Intel Core i7 2.7GHz  16GB   \n",
      "4  IPS Panel Retina Display 2560x1600        Intel Core i5 3.1GHz   8GB   \n",
      "\n",
      "                Memory                           Gpu  OpSys  Weight  \\\n",
      "0            128GB SSD  Intel Iris Plus Graphics 640  macOS  1.37kg   \n",
      "1  128GB Flash Storage        Intel HD Graphics 6000  macOS  1.34kg   \n",
      "2            256GB SSD         Intel HD Graphics 620  No OS  1.86kg   \n",
      "3            512GB SSD            AMD Radeon Pro 455  macOS  1.83kg   \n",
      "4            256GB SSD  Intel Iris Plus Graphics 650  macOS  1.37kg   \n",
      "\n",
      "   Price_in_euros  \n",
      "0         1339.69  \n",
      "1          898.94  \n",
      "2          575.00  \n",
      "3         2537.45  \n",
      "4         1803.60  \n"
     ]
    }
   ],
   "source": [
    "import pandas as pd\n",
    "laptop_df = pd.read_csv('laptop_data.csv', encoding='latin1')\n",
    "print(laptop_df.head())"
   ]
  },
  {
   "cell_type": "code",
   "execution_count": 2,
   "id": "c7c25220-8952-457a-8ca7-78cb9542467c",
   "metadata": {},
   "outputs": [
    {
     "name": "stdout",
     "output_type": "stream",
     "text": [
      "<class 'pandas.core.frame.DataFrame'>\n",
      "RangeIndex: 1303 entries, 0 to 1302\n",
      "Data columns (total 13 columns):\n",
      " #   Column            Non-Null Count  Dtype  \n",
      "---  ------            --------------  -----  \n",
      " 0   laptop_ID         1303 non-null   int64  \n",
      " 1   Company           1303 non-null   object \n",
      " 2   Product           1303 non-null   object \n",
      " 3   TypeName          1303 non-null   object \n",
      " 4   Inches            1303 non-null   float64\n",
      " 5   ScreenResolution  1303 non-null   object \n",
      " 6   Cpu               1303 non-null   object \n",
      " 7   Ram               1303 non-null   object \n",
      " 8   Memory            1303 non-null   object \n",
      " 9   Gpu               1303 non-null   object \n",
      " 10  OpSys             1303 non-null   object \n",
      " 11  Weight            1303 non-null   object \n",
      " 12  Price_in_euros    1303 non-null   float64\n",
      "dtypes: float64(2), int64(1), object(10)\n",
      "memory usage: 132.5+ KB\n",
      "None\n",
      "laptop_ID           0\n",
      "Company             0\n",
      "Product             0\n",
      "TypeName            0\n",
      "Inches              0\n",
      "ScreenResolution    0\n",
      "Cpu                 0\n",
      "Ram                 0\n",
      "Memory              0\n",
      "Gpu                 0\n",
      "OpSys               0\n",
      "Weight              0\n",
      "Price_in_euros      0\n",
      "dtype: int64\n"
     ]
    }
   ],
   "source": [
    "# Eksplorasi data: info umum dan cek missing values\n",
    "print(laptop_df.info())\n",
    "print(laptop_df.isnull().sum())"
   ]
  },
  {
   "cell_type": "code",
   "execution_count": 3,
   "id": "e1c57d25-6148-49cf-ac3d-291e8a3e6a79",
   "metadata": {},
   "outputs": [
    {
     "data": {
      "text/plain": [
       "(  Company      Product   TypeName  Inches                    ScreenResolution  \\\n",
       " 0   apple  macbook pro  ultrabook    13.3  ips panel retina display 2560x1600   \n",
       " 1   apple  macbook air  ultrabook    13.3                            1440x900   \n",
       " 2      hp       250 g6   notebook    15.6                   full hd 1920x1080   \n",
       " 3   apple  macbook pro  ultrabook    15.4  ips panel retina display 2880x1800   \n",
       " 4   apple  macbook pro  ultrabook    13.3  ips panel retina display 2560x1600   \n",
       " \n",
       "    Ram  OpSys  Weight  Price_in_euros Cpu_brand Cpu_model Gpu_brand  SSD  HDD  \\\n",
       " 0    8  macos    1.37         1339.69     intel   core i5     intel  128    0   \n",
       " 1    8  macos    1.34          898.94     intel   core i5     intel    0    0   \n",
       " 2    8  no os    1.86          575.00     intel   core i5     intel  256    0   \n",
       " 3   16  macos    1.83         2537.45     intel   core i7       amd  512    0   \n",
       " 4    8  macos    1.37         1803.60     intel   core i5     intel  256    0   \n",
       " \n",
       "    Flash  Hybrid  \n",
       " 0      0       0  \n",
       " 1    128       0  \n",
       " 2      0       0  \n",
       " 3      0       0  \n",
       " 4      0       0  ,\n",
       " Series([], dtype: int64))"
      ]
     },
     "execution_count": 3,
     "metadata": {},
     "output_type": "execute_result"
    }
   ],
   "source": [
    "# Salin dataframe untuk pembersihan\n",
    "df_clean = laptop_df.copy()\n",
    "\n",
    "# 1. Hapus kolom ID\n",
    "df_clean.drop(columns=['laptop_ID'], inplace=True)\n",
    "# 2. Ubah kolom 'Ram' dan 'Weight' menjadi numerik\n",
    "df_clean['Ram'] = df_clean['Ram'].str.replace('GB', '').astype(int)\n",
    "df_clean['Weight'] = df_clean['Weight'].str.replace('kg', '').astype(float)\n",
    "# 3. Pisahkan 'Cpu' menjadi kolom 'Cpu_brand' dan 'Cpu_model'\n",
    "df_clean['Cpu_brand'] = df_clean['Cpu'].apply(lambda x: x.split()[0])\n",
    "df_clean['Cpu_model'] = df_clean['Cpu'].apply(lambda x: ' '.join(x.split()[1:3]))\n",
    "# 4. Pisahkan 'Gpu' menjadi kolom 'Gpu_brand'\n",
    "df_clean['Gpu_brand'] = df_clean['Gpu'].apply(lambda x: x.split()[0])\n",
    "# 5. Pisahkan 'Memory' menjadi dua kolom: 'SSD' dan 'HDD'\n",
    "import re\n",
    "\n",
    "def extract_memory(mem):\n",
    "    mem = mem.upper().replace(' ', '')\n",
    "    ssd = hdd = flash = hybrid = 0\n",
    "    parts = mem.split('+')\n",
    "    for part in parts:\n",
    "        if 'SSD' in part:\n",
    "            ssd += int(re.findall(r'(\\d+)', part)[0])\n",
    "        elif 'HDD' in part:\n",
    "            hdd += int(re.findall(r'(\\d+)', part)[0])\n",
    "        elif 'FLASH' in part:\n",
    "            flash += int(re.findall(r'(\\d+)', part)[0])\n",
    "        elif 'HYBRID' in part:\n",
    "            hybrid += int(re.findall(r'(\\d+)', part)[0])\n",
    "    return pd.Series([ssd, hdd, flash, hybrid])\n",
    "\n",
    "df_clean[['SSD', 'HDD', 'Flash', 'Hybrid']] = df_clean['Memory'].apply(extract_memory)\n",
    "# 6. Hilangkan kolom yang sudah dipecah\n",
    "df_clean.drop(columns=['Cpu', 'Gpu', 'Memory'], inplace=True)\n",
    "# 7. Ubah string menjadi lowercase untuk konsistensi\n",
    "for col in ['Company', 'Product', 'TypeName', 'ScreenResolution', 'OpSys', 'Cpu_brand', 'Cpu_model', 'Gpu_brand']:\n",
    "    df_clean[col] = df_clean[col].str.lower()\n",
    "    # 8. Cek missing values\n",
    "missing_values = df_clean.isnull().sum()\n",
    "\n",
    "df_clean.head(), missing_values[missing_values > 0]"
   ]
  },
  {
   "cell_type": "code",
   "execution_count": 4,
   "id": "6f689363-1227-469a-8fe3-82a69bcf9bcf",
   "metadata": {},
   "outputs": [
    {
     "name": "stdout",
     "output_type": "stream",
     "text": [
      "  Company      Product   TypeName  Inches                    ScreenResolution  \\\n",
      "0   apple  macbook pro  ultrabook    13.3  ips panel retina display 2560x1600   \n",
      "1   apple  macbook air  ultrabook    13.3                            1440x900   \n",
      "2      hp       250 g6   notebook    15.6                   full hd 1920x1080   \n",
      "3   apple  macbook pro  ultrabook    15.4  ips panel retina display 2880x1800   \n",
      "4   apple  macbook pro  ultrabook    13.3  ips panel retina display 2560x1600   \n",
      "\n",
      "   Ram  OpSys  Weight  Price_in_euros Cpu_brand Cpu_model Gpu_brand  SSD  HDD  \\\n",
      "0    8  macos    1.37         1339.69     intel   core i5     intel  128    0   \n",
      "1    8  macos    1.34          898.94     intel   core i5     intel    0    0   \n",
      "2    8  no os    1.86          575.00     intel   core i5     intel  256    0   \n",
      "3   16  macos    1.83         2537.45     intel   core i7       amd  512    0   \n",
      "4    8  macos    1.37         1803.60     intel   core i5     intel  256    0   \n",
      "\n",
      "   Flash  Hybrid  Price_in_IDR  \n",
      "0      0       0    22774730.0  \n",
      "1    128       0    15281980.0  \n",
      "2      0       0     9775000.0  \n",
      "3      0       0    43136650.0  \n",
      "4      0       0    30661200.0  \n"
     ]
    }
   ],
   "source": [
    "# Menambahkan kolom harga dalam mata uang IDR (Rupiah)\n",
    "# Asumsi kurs 1 Euro = 17.000 IDR (bisa diubah sesuai kurs terbaru)\n",
    "KURS_EURO_TO_IDR = 17000\n",
    "df_clean['Price_in_IDR'] = df_clean['Price_in_euros'] * KURS_EURO_TO_IDR\n",
    "\n",
    "# Tampilkan 5 baris pertama untuk melihat hasilnya\n",
    "print(df_clean.head())"
   ]
  },
  {
   "cell_type": "code",
   "execution_count": 5,
   "id": "6225dd37-5596-4ae0-bc24-6f5fa324273c",
   "metadata": {},
   "outputs": [],
   "source": [
    "df_clean = df_clean.drop_duplicates()"
   ]
  },
  {
   "cell_type": "code",
   "execution_count": 6,
   "id": "fca657b3-20d9-4fd3-8d5e-5d722e8d3460",
   "metadata": {},
   "outputs": [
    {
     "data": {
      "text/plain": [
       "0"
      ]
     },
     "execution_count": 6,
     "metadata": {},
     "output_type": "execute_result"
    }
   ],
   "source": [
    "df_clean.duplicated().sum()"
   ]
  },
  {
   "cell_type": "code",
   "execution_count": 7,
   "id": "0926f779-d5a7-4154-9016-640e23bba240",
   "metadata": {},
   "outputs": [],
   "source": [
    "def remove_outliers_iqr(df_clean, column):\n",
    "    Q1 = df_clean[column].quantile(0.25)\n",
    "    Q3 = df_clean[column].quantile(0.75)\n",
    "    IQR = Q3 - Q1\n",
    "    lower_bound = Q1 - 1.5 * IQR\n",
    "    upper_bound = Q3 + 1.5 * IQR\n",
    "    return df_clean[(df_clean[column] >= lower_bound) & (df_clean[column] <= upper_bound)]"
   ]
  },
  {
   "cell_type": "code",
   "execution_count": 8,
   "id": "a4e66db7-d647-4486-ad46-32fe5b997796",
   "metadata": {},
   "outputs": [],
   "source": [
    "# Hitung PPI jika belum\n",
    "df_clean[['x_res', 'y_res']] = df_clean['ScreenResolution'].str.extract(r'(\\d+)x(\\d+)').astype(float)\n",
    "df_clean['ppi'] = ((df_clean['x_res']**2 + df_clean['y_res']**2)**0.5) / df_clean['Inches']\n",
    "\n",
    "# Hapus outlier dari beberapa kolom penting\n",
    "for col in ['Price_in_IDR', 'Ram', 'Inches', 'ppi', 'SSD', 'HDD']:\n",
    "    df_clean = remove_outliers_iqr(df_clean, col)\n",
    "\n",
    "df_clean.reset_index(drop=True, inplace=True)"
   ]
  },
  {
   "cell_type": "code",
   "execution_count": 9,
   "id": "08e03082-1e04-4e05-ad0e-70009b3a6f02",
   "metadata": {},
   "outputs": [
    {
     "data": {
      "image/png": "[encoded data removed]",
      "text/plain": [
       "<Figure size 1000x600 with 1 Axes>"
      ]
     },
     "metadata": {},
     "output_type": "display_data"
    },
    {
     "name": "stdout",
     "output_type": "stream",
     "text": [
      "count    8.430000e+02\n",
      "mean     1.643610e+07\n",
      "std      8.044186e+06\n",
      "min      3.332000e+06\n",
      "25%      1.016600e+07\n",
      "50%      1.523200e+07\n",
      "75%      2.069223e+07\n",
      "max      4.403000e+07\n",
      "Name: Price_in_IDR, dtype: float64\n"
     ]
    }
   ],
   "source": [
    "# Visualisasi distribusi harga laptop dalam IDR\n",
    "import matplotlib.pyplot as plt\n",
    "import seaborn as sns\n",
    "\n",
    "plt.figure(figsize=(10,6))\n",
    "sns.histplot(df_clean['Price_in_IDR'], bins=30, kde=True)\n",
    "plt.title('Distribusi Harga Laptop dalam IDR')\n",
    "plt.xlabel('Harga (IDR)')\n",
    "plt.ylabel('Jumlah Laptop')\n",
    "plt.tight_layout()\n",
    "plt.show()\n",
    "\n",
    "# Tampilkan statistik harga dalam IDR\n",
    "print(df_clean['Price_in_IDR'].describe())"
   ]
  },
  {
   "cell_type": "code",
   "execution_count": 10,
   "id": "e906e7d9-a297-4518-b1d5-2a1fe20ec7a5",
   "metadata": {},
   "outputs": [],
   "source": [
    "from sklearn.model_selection import train_test_split\n",
    "from sklearn.preprocessing import LabelEncoder\n",
    "import pandas as pd\n",
    "\n",
    "# Pilih fitur dan target\n",
    "features = ['Company', 'TypeName', 'Inches', 'Ram', 'Weight', 'SSD', 'HDD', 'OpSys']\n",
    "target = 'Price_in_IDR'\n",
    "\n",
    "# Encode fitur kategorikal\n",
    "le_company = LabelEncoder()\n",
    "df_clean['Company_enc'] = le_company.fit_transform(df_clean['Company'])\n",
    "\n",
    "le_type = LabelEncoder()\n",
    "df_clean['TypeName_enc'] = le_type.fit_transform(df_clean['TypeName'])\n",
    "\n",
    "le_opsys = LabelEncoder()\n",
    "df_clean['OpSys_enc'] = le_opsys.fit_transform(df_clean['OpSys'])\n",
    "\n",
    "# Gunakan fitur yang sudah diencoding + numerik\n",
    "X = df_clean[['Company_enc', 'TypeName_enc', 'Inches', 'Ram', 'Weight', 'SSD', 'HDD', 'OpSys_enc']]\n",
    "y = df_clean[target]\n",
    "\n",
    "# Split data tanpa scaling\n",
    "X_train, X_test, y_train, y_test = train_test_split(X, y, test_size=0.2, random_state=42)\n",
    "\n",
    "# Gabungkan kembali untuk TF-DF\n",
    "X_train_df = X_train.copy()\n",
    "X_train_df[target] = y_train\n",
    "\n",
    "X_test_df = X_test.copy()\n",
    "X_test_df[target] = y_test\n"
   ]
  },
  {
   "cell_type": "code",
   "execution_count": 11,
   "id": "ce4f493f-270d-475e-9469-4ff500735f9d",
   "metadata": {},
   "outputs": [
    {
     "data": {
      "text/plain": [
       "<Axes: xlabel='Price_in_IDR', ylabel='Count'>"
      ]
     },
     "execution_count": 11,
     "metadata": {},
     "output_type": "execute_result"
    },
    {
     "data": {
      "image/png": "[encoded data removed]",
      "text/plain": [
       "<Figure size 640x480 with 1 Axes>"
      ]
     },
     "metadata": {},
     "output_type": "display_data"
    }
   ],
   "source": [
    "import seaborn as sns\n",
    "sns.histplot(y_train, kde=True)"
   ]
  },
  {
   "cell_type": "markdown",
   "id": "d1a1d3cb-cdcb-4e76-a3d6-af10838cb06d",
   "metadata": {},
   "source": [
    "## coba tensor flow"
   ]
  },
  {
   "cell_type": "code",
   "execution_count": 12,
   "id": "e0b5c4fd-03fa-4e0b-a439-015432d7e8bf",
   "metadata": {},
   "outputs": [
    {
     "data": {
      "text/html": [
       "\n",
       "<p style=\"margin:0px;\">🌲 Try <a href=\"https://ydf.readthedocs.io/en/latest/\" target=\"_blank\">YDF</a>, the successor of\n",
       "    <a href=\"https://www.tensorflow.org/decision_forests\" target=\"_blank\">TensorFlow\n",
       "        Decision Forests</a> using the same algorithms but with more features and faster\n",
       "    training!\n",
       "</p>\n",
       "<div style=\"display: flex; flex-wrap: wrap; margin:5px;max-width: 880px;\">\n",
       "    <div style=\"flex: 1; border-radius: 10px; background-color: F0F0F0; padding: 5px;\">\n",
       "        <p\n",
       "            style=\"font-weight: bold; margin:0px;text-align: center;border-bottom: 1px solid #C0C0C0;margin-bottom: 4px;\">\n",
       "            Old code</p>\n",
       "        <pre style=\"overflow-wrap: anywhere; overflow: auto; margin:0px;font-size: 9pt;\">\n",
       "import tensorflow_decision_forests as tfdf\n",
       "\n",
       "tf_ds = tfdf.keras.pd_dataframe_to_tf_dataset(ds, label=\"l\")\n",
       "model = tfdf.keras.RandomForestModel(label=\"l\")\n",
       "model.fit(tf_ds)\n",
       "</pre>\n",
       "    </div>\n",
       "    <div style=\"width: 5px;\"></div>\n",
       "    <div style=\"flex: 1; border-radius: 10px; background-color: F0F0F0; padding: 5px;\">\n",
       "        <p\n",
       "            style=\"font-weight: bold; margin:0px;text-align: center;border-bottom: 1px solid #C0C0C0;margin-bottom: 4px;\">\n",
       "            New code</p>\n",
       "        <pre style=\"overflow-wrap: anywhere; overflow: auto; margin:0px;font-size: 9pt;\">\n",
       "import ydf\n",
       "\n",
       "model = ydf.RandomForestLearner(label=\"l\").train(ds)\n",
       "</pre>\n",
       "    </div>\n",
       "</div>\n",
       "<p style=\"margin:0px;font-size: 9pt;\">(Learn more in the <a\n",
       "        href=\"https://ydf.readthedocs.io/en/latest/tutorial/migrating_to_ydf/\" target=\"_blank\">migration\n",
       "        guide</a>)</p>\n"
      ],
      "text/plain": [
       "<IPython.core.display.HTML object>"
      ]
     },
     "metadata": {},
     "output_type": "display_data"
    }
   ],
   "source": [
    "import tensorflow_decision_forests as tfdf\n",
    "import tensorflow as tf\n",
    "import pandas as pd"
   ]
  },
  {
   "cell_type": "code",
   "execution_count": 13,
   "id": "7ff66b03-c3eb-47e6-b9ee-17644fd73fc6",
   "metadata": {},
   "outputs": [],
   "source": [
    "X_train_df = X_train.copy()\n",
    "X_test_df = X_test.copy()\n",
    "\n",
    "X_train_df['Price_in_IDR'] = y_train\n",
    "X_test_df['Price_in_IDR'] = y_test\n"
   ]
  },
  {
   "cell_type": "code",
   "execution_count": 21,
   "id": "5bd8b8de-eec0-4e48-98cb-378ab319194e",
   "metadata": {},
   "outputs": [],
   "source": [
    "train_ds = tfdf.keras.pd_dataframe_to_tf_dataset(X_train_df, task=tfdf.keras.Task.REGRESSION, label=\"Price_in_IDR\")\n",
    "test_ds = tfdf.keras.pd_dataframe_to_tf_dataset(X_test_df, task=tfdf.keras.Task.REGRESSION, label=\"Price_in_IDR\")\n"
   ]
  },
  {
   "cell_type": "code",
   "execution_count": 23,
   "id": "587612d2-e42f-4d5b-80b8-26d5d1ed939c",
   "metadata": {},
   "outputs": [],
   "source": [
    "train_ds = tfdf.keras.pd_dataframe_to_tf_dataset(X_train_df, label=target, task=tfdf.keras.Task.REGRESSION)\n",
    "test_ds = tfdf.keras.pd_dataframe_to_tf_dataset(X_test_df, label=target, task=tfdf.keras.Task.REGRESSION)"
   ]
  },
  {
   "cell_type": "code",
   "execution_count": 25,
   "id": "02567a48-4471-4962-a581-0202babf6600",
   "metadata": {},
   "outputs": [
    {
     "name": "stdout",
     "output_type": "stream",
     "text": [
      "Use /var/folders/mf/d68wp8695t52xvrgzxzcwlb40000gn/T/tmpf1cyts8x as temporary training directory\n",
      "Reading training dataset...\n",
      "Training dataset read in 0:00:01.465621. Found 674 examples.\n",
      "Training model...\n",
      "Model trained in 0:00:00.152580\n",
      "Compiling model...\n"
     ]
    },
    {
     "name": "stderr",
     "output_type": "stream",
     "text": [
      "WARNING: All log messages before absl::InitializeLog() is called are written to STDERR\n",
      "I0000 00:00:1749614756.528456  896696 kernel.cc:782] Start Yggdrasil model training\n",
      "I0000 00:00:1749614756.529028  896696 kernel.cc:783] Collect training examples\n",
      "I0000 00:00:1749614756.529033  896696 kernel.cc:795] Dataspec guide:\n",
      "column_guides {\n",
      "  column_name_pattern: \"^__LABEL$\"\n",
      "  type: NUMERICAL\n",
      "}\n",
      "default_column_guide {\n",
      "  categorial {\n",
      "    max_vocab_count: 2000\n",
      "  }\n",
      "  discretized_numerical {\n",
      "    maximum_num_bins: 255\n",
      "  }\n",
      "}\n",
      "ignore_columns_without_guides: false\n",
      "detect_numerical_as_discretized_numerical: false\n",
      "\n",
      "I0000 00:00:1749614756.530594  896696 kernel.cc:401] Number of batches: 1\n",
      "I0000 00:00:1749614756.530599  896696 kernel.cc:402] Number of examples: 674\n",
      "I0000 00:00:1749614756.531016  896696 kernel.cc:802] Training dataset:\n",
      "Number of records: 674\n",
      "Number of columns: 6\n",
      "\n",
      "Number of columns by type:\n",
      "\tNUMERICAL: 6 (100%)\n",
      "\n",
      "Columns:\n",
      "\n",
      "NUMERICAL: 6 (100%)\n",
      "\t0: \"OpSys_enc\" NUMERICAL mean:4.70326 min:0 max:7 sd:1.20006\n",
      "\t1: \"Ram\" NUMERICAL mean:6.88131 min:2 max:12 sd:2.03839\n",
      "\t2: \"SSD\" NUMERICAL mean:160.589 min:0 max:512 sd:135.605\n",
      "\t3: \"TypeName_enc\" NUMERICAL mean:2.68546 min:0 max:5 sd:1.1628\n",
      "\t4: \"Weight\" NUMERICAL mean:1.96735 min:0.81 max:3.78 sd:0.479179\n",
      "\t5: \"__LABEL\" NUMERICAL mean:1.65302e+07 min:3.383e+06 max:4.403e+07 sd:8.09782e+06\n",
      "\n",
      "Terminology:\n",
      "\tnas: Number of non-available (i.e. missing) values.\n",
      "\tood: Out of dictionary.\n",
      "\tmanually-defined: Attribute whose type is manually defined by the user, i.e., the type was not automatically inferred.\n",
      "\ttokenized: The attribute value is obtained through tokenization.\n",
      "\thas-dict: The attribute is attached to a string dictionary e.g. a categorical attribute stored as a string.\n",
      "\tvocab-size: Number of unique values.\n",
      "\n",
      "I0000 00:00:1749614756.531225  896696 kernel.cc:818] Configure learner\n",
      "I0000 00:00:1749614756.531460  896696 kernel.cc:831] Training config:\n",
      "learner: \"RANDOM_FOREST\"\n",
      "features: \"^OpSys_enc$\"\n",
      "features: \"^Ram$\"\n",
      "features: \"^SSD$\"\n",
      "features: \"^TypeName_enc$\"\n",
      "features: \"^Weight$\"\n",
      "label: \"^__LABEL$\"\n",
      "task: REGRESSION\n",
      "random_seed: 123456\n",
      "metadata {\n",
      "  framework: \"TF Keras\"\n",
      "}\n",
      "pure_serving_model: false\n",
      "[yggdrasil_decision_forests.model.random_forest.proto.random_forest_config] {\n",
      "  num_trees: 300\n",
      "  decision_tree {\n",
      "    max_depth: 16\n",
      "    min_examples: 5\n",
      "    in_split_min_examples_check: true\n",
      "    keep_non_leaf_label_distribution: true\n",
      "    num_candidate_attributes: 0\n",
      "    missing_value_policy: GLOBAL_IMPUTATION\n",
      "    allow_na_conditions: false\n",
      "    categorical_set_greedy_forward {\n",
      "      sampling: 0.1\n",
      "      max_num_items: -1\n",
      "      min_item_frequency: 1\n",
      "    }\n",
      "    growing_strategy_local {\n",
      "    }\n",
      "    categorical {\n",
      "      cart {\n",
      "      }\n",
      "    }\n",
      "    axis_aligned_split {\n",
      "    }\n",
      "    internal {\n",
      "      sorting_strategy: PRESORTED\n",
      "    }\n",
      "    uplift {\n",
      "      min_examples_in_treatment: 5\n",
      "      split_score: KULLBACK_LEIBLER\n",
      "    }\n",
      "    numerical_vector_sequence {\n",
      "      max_num_test_examples: 1000\n",
      "      num_random_selected_anchors: 100\n",
      "    }\n",
      "  }\n",
      "  winner_take_all_inference: true\n",
      "  compute_oob_performances: true\n",
      "  compute_oob_variable_importances: false\n",
      "  num_oob_variable_importances_permutations: 1\n",
      "  bootstrap_training_dataset: true\n",
      "  bootstrap_size_ratio: 1\n",
      "  adapt_bootstrap_size_ratio_for_maximum_training_duration: false\n",
      "  sampling_with_replacement: true\n",
      "}\n",
      "\n",
      "I0000 00:00:1749614756.531608  896696 kernel.cc:834] Deployment config:\n",
      "cache_path: \"/var/folders/mf/d68wp8695t52xvrgzxzcwlb40000gn/T/tmpf1cyts8x/working_cache\"\n",
      "num_threads: 8\n",
      "try_resume_training: true\n",
      "\n",
      "I0000 00:00:1749614756.531724  899141 kernel.cc:895] Train model\n",
      "I0000 00:00:1749614756.532267  899141 random_forest.cc:438] Training random forest on 674 example(s) and 5 feature(s).\n",
      "I0000 00:00:1749614756.532548  899141 gpu.cc:93] Cannot initialize GPU: Not compiled with GPU support\n",
      "I0000 00:00:1749614756.534873  899151 random_forest.cc:865] Train tree 1/300 rmse:5.3371e+06 [index:5 total:0.00s tree:0.00s]\n",
      "I0000 00:00:1749614756.535731  899153 random_forest.cc:865] Train tree 11/300 rmse:4.77394e+06 [index:10 total:0.00s tree:0.00s]\n",
      "I0000 00:00:1749614756.536719  899147 random_forest.cc:865] Train tree 21/300 rmse:4.68497e+06 [index:20 total:0.00s tree:0.00s]\n",
      "I0000 00:00:1749614756.537419  899152 random_forest.cc:865] Train tree 32/300 rmse:4.66213e+06 [index:31 total:0.00s tree:0.00s]\n",
      "I0000 00:00:1749614756.538585  899148 random_forest.cc:865] Train tree 42/300 rmse:4.62482e+06 [index:41 total:0.01s tree:0.00s]\n",
      "I0000 00:00:1749614756.539136  899153 random_forest.cc:865] Train tree 52/300 rmse:4.62068e+06 [index:51 total:0.01s tree:0.00s]\n",
      "I0000 00:00:1749614756.542191  899154 random_forest.cc:865] Train tree 66/300 rmse:4.59901e+06 [index:66 total:0.01s tree:0.00s]\n",
      "I0000 00:00:1749614756.543779  899151 random_forest.cc:865] Train tree 77/300 rmse:4.61798e+06 [index:77 total:0.01s tree:0.00s]\n",
      "I0000 00:00:1749614756.544986  899151 random_forest.cc:865] Train tree 87/300 rmse:4.59868e+06 [index:86 total:0.01s tree:0.00s]\n",
      "I0000 00:00:1749614756.546041  899148 random_forest.cc:865] Train tree 98/300 rmse:4.6036e+06 [index:97 total:0.01s tree:0.00s]\n",
      "I0000 00:00:1749614756.547039  899150 random_forest.cc:865] Train tree 108/300 rmse:4.59195e+06 [index:109 total:0.01s tree:0.00s]\n",
      "I0000 00:00:1749614756.548098  899147 random_forest.cc:865] Train tree 118/300 rmse:4.58838e+06 [index:119 total:0.02s tree:0.00s]\n",
      "I0000 00:00:1749614756.549246  899153 random_forest.cc:865] Train tree 128/300 rmse:4.60438e+06 [index:126 total:0.02s tree:0.00s]\n",
      "I0000 00:00:1749614756.550040  899150 random_forest.cc:865] Train tree 138/300 rmse:4.59802e+06 [index:137 total:0.02s tree:0.00s]\n",
      "I0000 00:00:1749614756.550927  899148 random_forest.cc:865] Train tree 148/300 rmse:4.58671e+06 [index:148 total:0.02s tree:0.00s]\n",
      "I0000 00:00:1749614756.551829  899151 random_forest.cc:865] Train tree 158/300 rmse:4.57369e+06 [index:157 total:0.02s tree:0.00s]\n",
      "I0000 00:00:1749614756.552890  899152 random_forest.cc:865] Train tree 168/300 rmse:4.56333e+06 [index:167 total:0.02s tree:0.00s]\n",
      "I0000 00:00:1749614756.553609  899147 random_forest.cc:865] Train tree 179/300 rmse:4.5623e+06 [index:179 total:0.02s tree:0.00s]\n",
      "I0000 00:00:1749614756.555109  899149 random_forest.cc:865] Train tree 189/300 rmse:4.55349e+06 [index:187 total:0.02s tree:0.00s]\n",
      "I0000 00:00:1749614756.556442  899149 random_forest.cc:865] Train tree 201/300 rmse:4.55218e+06 [index:196 total:0.02s tree:0.00s]\n",
      "I0000 00:00:1749614756.557392  899151 random_forest.cc:865] Train tree 211/300 rmse:4.55307e+06 [index:211 total:0.02s tree:0.00s]\n",
      "I0000 00:00:1749614756.558203  899148 random_forest.cc:865] Train tree 221/300 rmse:4.55652e+06 [index:220 total:0.03s tree:0.00s]\n",
      "I0000 00:00:1749614756.559079  899151 random_forest.cc:865] Train tree 231/300 rmse:4.55189e+06 [index:230 total:0.03s tree:0.00s]\n",
      "I0000 00:00:1749614756.560319  899151 random_forest.cc:865] Train tree 241/300 rmse:4.54714e+06 [index:240 total:0.03s tree:0.00s]\n",
      "I0000 00:00:1749614756.561238  899152 random_forest.cc:865] Train tree 251/300 rmse:4.54366e+06 [index:251 total:0.03s tree:0.00s]\n",
      "I0000 00:00:1749614756.562217  899154 random_forest.cc:865] Train tree 261/300 rmse:4.54637e+06 [index:261 total:0.03s tree:0.00s]\n",
      "I0000 00:00:1749614756.562902  899147 random_forest.cc:865] Train tree 272/300 rmse:4.54427e+06 [index:272 total:0.03s tree:0.00s]\n",
      "I0000 00:00:1749614756.564111  899149 random_forest.cc:865] Train tree 282/300 rmse:4.54713e+06 [index:281 total:0.03s tree:0.00s]\n",
      "I0000 00:00:1749614756.564763  899148 random_forest.cc:865] Train tree 293/300 rmse:4.54546e+06 [index:292 total:0.03s tree:0.00s]\n",
      "I0000 00:00:1749614756.565488  899152 random_forest.cc:865] Train tree 300/300 rmse:4.54479e+06 [index:299 total:0.03s tree:0.00s]\n",
      "I0000 00:00:1749614756.565533  899141 random_forest.cc:949] Final OOB metrics: rmse:4.54479e+06\n",
      "I0000 00:00:1749614756.572747  899141 kernel.cc:926] Export model in log directory: /var/folders/mf/d68wp8695t52xvrgzxzcwlb40000gn/T/tmpf1cyts8x with prefix b55ec807e8774e37\n",
      "I0000 00:00:1749614756.591158  899141 kernel.cc:944] Save model in resources\n",
      "I0000 00:00:1749614756.595347  896696 abstract_model.cc:921] Model self evaluation:\n",
      "Number of predictions (without weights): 674\n",
      "Number of predictions (with weights): 674\n",
      "Task: REGRESSION\n",
      "Label: __LABEL\n",
      "\n",
      "RMSE: 4.54479e+06 CI95[X2][4.31461e+06 4.80112e+06]\n",
      "Default RMSE: : 8.09782e+06\n",
      "\n",
      "WARNING: All log messages before absl::InitializeLog() is called are written to STDERR\n",
      "I0000 00:00:1749614756.674422  896696 decision_forest.cc:808] Model loaded with 300 root(s), 54460 node(s), and 5 input feature(s).\n",
      "I0000 00:00:1749614756.674627  896696 abstract_model.cc:1439] Engine \"RandomForestOptPred\" built\n"
     ]
    },
    {
     "name": "stdout",
     "output_type": "stream",
     "text": [
      "Model compiled.\n",
      "1/1 [==============================] - 0s 94ms/step - loss: 0.0000e+00\n",
      "✅ TF-DF Random Forest dengan fitur penting saja\n",
      "RMSE (loss): 0.0\n",
      "1/1 [==============================] - 0s 13ms/step\n",
      "MAE (manual): 3310862.1242603553\n"
     ]
    }
   ],
   "source": [
    "import pandas as pd\n",
    "import tensorflow_decision_forests as tfdf\n",
    "from sklearn.model_selection import train_test_split\n",
    "\n",
    "# Pilih hanya fitur penting\n",
    "selected_features = ['Ram', 'Weight', 'SSD', 'TypeName_enc', 'OpSys_enc']\n",
    "target = 'Price_in_IDR'\n",
    "\n",
    "# Buat subset data\n",
    "X_df = df_clean[selected_features + [target]]\n",
    "\n",
    "# Split data train-test\n",
    "X_train_df, X_test_df = train_test_split(X_df, test_size=0.2, random_state=42)\n",
    "\n",
    "# Konversi ke tf.data.Dataset\n",
    "train_ds = tfdf.keras.pd_dataframe_to_tf_dataset(X_train_df, label=target, task=tfdf.keras.Task.REGRESSION)\n",
    "test_ds = tfdf.keras.pd_dataframe_to_tf_dataset(X_test_df, label=target, task=tfdf.keras.Task.REGRESSION)\n",
    "\n",
    "# Buat dan latih model TF-DF\n",
    "rf_model_tfdf_simplified = tfdf.keras.RandomForestModel(task=tfdf.keras.Task.REGRESSION)\n",
    "rf_model_tfdf_simplified.fit(train_ds)\n",
    "\n",
    "# Evaluasi model\n",
    "evaluation = rf_model_tfdf_simplified.evaluate(test_ds, return_dict=True)\n",
    "print(\"✅ TF-DF Random Forest dengan fitur penting saja\")\n",
    "print(\"RMSE (loss):\", evaluation['loss'])\n",
    "\n",
    "# Prediksi dan MAE manual\n",
    "predictions = rf_model_tfdf_simplified.predict(test_ds)\n",
    "y_pred = [pred[0] for pred in predictions]\n",
    "y_true = X_test_df[target].values\n",
    "\n",
    "from sklearn.metrics import mean_absolute_error\n",
    "mae = mean_absolute_error(y_true, y_pred)\n",
    "print(\"MAE (manual):\", mae)\n"
   ]
  },
  {
   "cell_type": "code",
   "execution_count": 27,
   "id": "56503810-aa2a-48a8-9b9f-fd5e7f9c618f",
   "metadata": {},
   "outputs": [
    {
     "name": "stdout",
     "output_type": "stream",
     "text": [
      "1/1 [==============================] - 0s 49ms/step\n",
      "✅ Evaluasi Manual:\n",
      "MAE : 3310862.1242603553\n",
      "RMSE: 4568480.201099273\n"
     ]
    }
   ],
   "source": [
    "from sklearn.metrics import mean_absolute_error, mean_squared_error\n",
    "import numpy as np\n",
    "\n",
    "# Prediksi\n",
    "y_pred = rf_model_tfdf_simplified.predict(test_ds)\n",
    "y_pred = [pred[0] for pred in y_pred]\n",
    "\n",
    "# Nilai aktual\n",
    "y_true = X_test_df[target].values\n",
    "\n",
    "# Evaluasi manual\n",
    "mae = mean_absolute_error(y_true, y_pred)\n",
    "rmse = np.sqrt(mean_squared_error(y_true, y_pred))\n",
    "\n",
    "print(\"✅ Evaluasi Manual:\")\n",
    "print(\"MAE :\", mae)\n",
    "print(\"RMSE:\", rmse)\n"
   ]
  },
  {
   "cell_type": "code",
   "execution_count": 29,
   "id": "274c295f-9848-407a-b97a-08ada21d7197",
   "metadata": {},
   "outputs": [
    {
     "name": "stdout",
     "output_type": "stream",
     "text": [
      "1/1 [==============================] - 0s 45ms/step\n",
      "   Actual Price  Predicted Price\n",
      "0     5066000.0        5558334.0\n",
      "1    11033000.0        9909991.0\n",
      "2    20485000.0       18205170.0\n",
      "3    13583000.0       17269574.0\n",
      "4    28033000.0       24983662.0\n",
      "5    12172000.0       12446043.0\n",
      "6    13583000.0       10467208.0\n",
      "7    20315000.0       21218368.0\n",
      "8    11883000.0       13812481.0\n",
      "9    10863000.0       11139044.0\n"
     ]
    },
    {
     "data": {
      "image/png": "[encoded data removed]",
      "text/plain": [
       "<Figure size 700x700 with 1 Axes>"
      ]
     },
     "metadata": {},
     "output_type": "display_data"
    }
   ],
   "source": [
    "import pandas as pd\n",
    "import numpy as np\n",
    "import matplotlib.pyplot as plt\n",
    "from sklearn.metrics import mean_absolute_error\n",
    "\n",
    "# 🔮 Prediksi harga dari test set (pakai test_ds)\n",
    "predictions = rf_model_tfdf_simplified.predict(test_ds)\n",
    "y_pred = np.array([pred[0] for pred in predictions])  # ambil nilai float dari hasil prediksi\n",
    "\n",
    "# 🎯 Harga aktual\n",
    "y_true = X_test_df['Price_in_IDR'].values\n",
    "\n",
    "# 📊 Buat DataFrame perbandingan\n",
    "comparison_df = pd.DataFrame({\n",
    "    'Actual Price': y_true,\n",
    "    'Predicted Price': y_pred\n",
    "})\n",
    "\n",
    "# 🖨️ Tampilkan 10 hasil pertama\n",
    "print(comparison_df.head(10))\n",
    "\n",
    "# 📈 Visualisasi scatter plot\n",
    "plt.figure(figsize=(7, 7))\n",
    "plt.scatter(comparison_df['Actual Price'], comparison_df['Predicted Price'], alpha=0.6)\n",
    "plt.plot(\n",
    "    [comparison_df['Actual Price'].min(), comparison_df['Actual Price'].max()],\n",
    "    [comparison_df['Actual Price'].min(), comparison_df['Actual Price'].max()],\n",
    "    color='red', linestyle='--', label='Perfect Prediction'\n",
    ")\n",
    "plt.xlabel('Actual Price')\n",
    "plt.ylabel('Predicted Price')\n",
    "plt.title('Actual vs Predicted Laptop Prices (TF-DF Random Forest)')\n",
    "plt.legend()\n",
    "plt.show()\n"
   ]
  },
  {
   "cell_type": "code",
   "execution_count": 30,
   "id": "c8be7d3e-787d-4e29-8545-f98dbfa29728",
   "metadata": {},
   "outputs": [
    {
     "name": "stdout",
     "output_type": "stream",
     "text": [
      "R2 Score: 0.6561443809011689\n"
     ]
    }
   ],
   "source": [
    "from sklearn.metrics import r2_score\n",
    "print(\"R2 Score:\", r2_score(y_true, y_pred))\n"
   ]
  },
  {
   "cell_type": "code",
   "execution_count": 31,
   "id": "152d41cc-43b2-4531-8eea-a17c44744e5d",
   "metadata": {},
   "outputs": [
    {
     "data": {
      "text/plain": [
       "{'INV_MEAN_MIN_DEPTH': [(\"Ram\" (1; #1), 0.4595618464492418),\n",
       "  (\"SSD\" (1; #2), 0.3235010086622343),\n",
       "  (\"Weight\" (1; #4), 0.31389962727181986),\n",
       "  (\"TypeName_enc\" (1; #3), 0.27345024623706404),\n",
       "  (\"OpSys_enc\" (1; #0), 0.16321647134018666)],\n",
       " 'NUM_AS_ROOT': [(\"Ram\" (1; #1), 163.0),\n",
       "  (\"SSD\" (1; #2), 75.0),\n",
       "  (\"TypeName_enc\" (1; #3), 40.0),\n",
       "  (\"Weight\" (1; #4), 22.0)],\n",
       " 'SUM_SCORE': [(\"Ram\" (1; #1), 3.2660173122836337e+18),\n",
       "  (\"Weight\" (1; #4), 3.225135256404047e+18),\n",
       "  (\"TypeName_enc\" (1; #3), 2.1026467574256417e+18),\n",
       "  (\"SSD\" (1; #2), 2.008423401376491e+18),\n",
       "  (\"OpSys_enc\" (1; #0), 3.92110165991046e+17)],\n",
       " 'NUM_NODES': [(\"Weight\" (1; #4), 18485.0),\n",
       "  (\"SSD\" (1; #2), 2617.0),\n",
       "  (\"TypeName_enc\" (1; #3), 2370.0),\n",
       "  (\"OpSys_enc\" (1; #0), 2329.0),\n",
       "  (\"Ram\" (1; #1), 1279.0)]}"
      ]
     },
     "execution_count": 31,
     "metadata": {},
     "output_type": "execute_result"
    }
   ],
   "source": [
    "rf_model_tfdf_simplified.make_inspector().variable_importances()\n"
   ]
  },
  {
   "cell_type": "code",
   "execution_count": 33,
   "id": "c36caa83-64c8-434a-ba3d-7cab04543f3c",
   "metadata": {},
   "outputs": [
    {
     "name": "stdout",
     "output_type": "stream",
     "text": [
      "INFO:tensorflow:Assets written to: tfdf_model_laptop/assets\n"
     ]
    },
    {
     "name": "stderr",
     "output_type": "stream",
     "text": [
      "INFO:tensorflow:Assets written to: tfdf_model_laptop/assets\n"
     ]
    }
   ],
   "source": [
    "rf_model_tfdf_simplified.save(\"tfdf_model_laptop\")\n"
   ]
  },
  {
   "cell_type": "code",
   "execution_count": 35,
   "id": "7bb63819-f5e8-4be2-b479-d928c47ee918",
   "metadata": {},
   "outputs": [
    {
     "name": "stdout",
     "output_type": "stream",
     "text": [
      "INFO:tensorflow:Assets written to: new_ydf_model/assets\n"
     ]
    },
    {
     "name": "stderr",
     "output_type": "stream",
     "text": [
      "INFO:tensorflow:Assets written to: new_ydf_model/assets\n"
     ]
    }
   ],
   "source": [
    "rf_model_tfdf_simplified.save(\"new_ydf_model\")"
   ]
  },
  {
   "cell_type": "code",
   "execution_count": null,
   "id": "74e837ae-230c-4517-867d-e8cdaddfdd02",
   "metadata": {},
   "outputs": [],
   "source": []
  }
 ],
 "metadata": {
  "kernelspec": {
   "display_name": "Python 3 (ipykernel)",
   "language": "python",
   "name": "python3"
  },
  "language_info": {
   "codemirror_mode": {
    "name": "ipython",
    "version": 3
   },
   "file_extension": ".py",
   "mimetype": "text/x-python",
   "name": "python",
   "nbconvert_exporter": "python",
   "pygments_lexer": "ipython3",
   "version": "3.12.7"
  }
 },
 "nbformat": 4,
 "nbformat_minor": 5
}
